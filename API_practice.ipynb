{
 "cells": [
  {
   "cell_type": "code",
   "execution_count": 1,
   "id": "991bb1d0",
   "metadata": {},
   "outputs": [],
   "source": [
    "# Create a practice set of random latitude and longitude combinations.\n",
    "x = [25.12903645, 25.92017388, 26.62509167, -59.98969384, 37.30571269]\n",
    "y = [-67.59741259, 11.09532135, 74.84233102, -76.89176677, -61.13376282]\n",
    "coordinates = zip(x, y)"
   ]
  },
  {
   "cell_type": "code",
   "execution_count": 2,
   "id": "c905822e",
   "metadata": {},
   "outputs": [
    {
     "name": "stdout",
     "output_type": "stream",
     "text": [
      "25.12903645 -67.59741259\n",
      "25.92017388 11.09532135\n",
      "26.62509167 74.84233102\n",
      "-59.98969384 -76.89176677\n",
      "37.30571269 -61.13376282\n"
     ]
    }
   ],
   "source": [
    "# Use the tuple() function to display the latitude and longitude combinations.\n",
    "for coordinate in coordinates:\n",
    "    print(coordinate[0], coordinate[1])"
   ]
  },
  {
   "cell_type": "code",
   "execution_count": 3,
   "id": "7f46e038",
   "metadata": {},
   "outputs": [
    {
     "data": {
      "text/plain": [
       "'2.27.1'"
      ]
     },
     "execution_count": 3,
     "metadata": {},
     "output_type": "execute_result"
    }
   ],
   "source": [
    "import requests\n",
    "requests.__version__"
   ]
  },
  {
   "cell_type": "code",
   "execution_count": 4,
   "id": "935c901a",
   "metadata": {},
   "outputs": [],
   "source": [
    "# Import the requests library.\n",
    "import requests\n",
    "\n",
    "# Import the API key.\n",
    "from config import weather_api_key"
   ]
  },
  {
   "cell_type": "code",
   "execution_count": 5,
   "id": "9ef0e880",
   "metadata": {},
   "outputs": [],
   "source": [
    "# Starting URL for Weather Map API Call.\n",
    "#Add units=Imperial ???\n",
    "\n",
    "# https://api.openweathermap.org/data/2.5/weather?lat={lat}&lon={lon}&units=imperial&appid=\n",
    "\n",
    "url = \"https://api.openweathermap.org/data/2.5/weather?lat={lat}&lon={lon}&units=imperial&appid=\" + weather_api_key"
   ]
  },
  {
   "cell_type": "code",
   "execution_count": 6,
   "id": "f5579f84",
   "metadata": {},
   "outputs": [
    {
     "name": "stdout",
     "output_type": "stream",
     "text": [
      "https://api.openweathermap.org/data/2.5/weather?lat={lat}&lon={lon}&units=imperial&appid=2bc1023b8dad77b8640c75b326f719de&q=Boston\n"
     ]
    }
   ],
   "source": [
    "# Create an endpoint URL for a city.\n",
    "#url specifies weather to the time the code was ran last\n",
    "city_url = url + \"&q=\" + \"Boston\"\n",
    "print(city_url)"
   ]
  },
  {
   "cell_type": "code",
   "execution_count": 7,
   "id": "c8acae0b",
   "metadata": {},
   "outputs": [
    {
     "name": "stdout",
     "output_type": "stream",
     "text": [
      "https://api.openweathermap.org/data/2.5/weather?lat={lat}&lon={lon}&units=imperial&appid=2bc1023b8dad77b8640c75b326f719de&q=London\n"
     ]
    }
   ],
   "source": [
    "# video example\n",
    "city = \"London\"\n",
    "query_url = url + \"&q=\" + city\n",
    "\n",
    "weather_responses = requests.get(query_url)\n",
    "weather_json = weather_responses.json()\n",
    "\n",
    "print(query_url)"
   ]
  },
  {
   "cell_type": "code",
   "execution_count": 8,
   "id": "5768b643",
   "metadata": {},
   "outputs": [
    {
     "data": {
      "text/plain": [
       "dict_keys(['coord', 'weather', 'base', 'main', 'visibility', 'wind', 'clouds', 'dt', 'sys', 'timezone', 'id', 'name', 'cod'])"
      ]
     },
     "execution_count": 8,
     "metadata": {},
     "output_type": "execute_result"
    }
   ],
   "source": [
    "#why do I not have the same array as in the video? is it because I left the\n",
    "# units=Imperial within my url? \n",
    "# I was missing an '=' after the '&q' smh\n",
    "weather_json.keys()"
   ]
  },
  {
   "cell_type": "code",
   "execution_count": 9,
   "id": "898d599b",
   "metadata": {},
   "outputs": [
    {
     "data": {
      "text/plain": [
       "{'temp': 40.55,\n",
       " 'feels_like': 38.5,\n",
       " 'temp_min': 34.16,\n",
       " 'temp_max': 43.5,\n",
       " 'pressure': 1029,\n",
       " 'humidity': 84}"
      ]
     },
     "execution_count": 9,
     "metadata": {},
     "output_type": "execute_result"
    }
   ],
   "source": [
    "#printed out in Farhenheit thanks to the imperial units\n",
    "weather_json.get(\"main\")"
   ]
  },
  {
   "cell_type": "code",
   "execution_count": 10,
   "id": "c1e28e66",
   "metadata": {},
   "outputs": [
    {
     "data": {
      "text/plain": [
       "<Response [200]>"
      ]
     },
     "execution_count": 10,
     "metadata": {},
     "output_type": "execute_result"
    }
   ],
   "source": [
    "# Make a 'Get' request for the city weather.\n",
    "\n",
    "#this outputs <Response [200]>\n",
    "city_weather = requests.get(city_url)\n",
    "city_weather"
   ]
  },
  {
   "cell_type": "code",
   "execution_count": 11,
   "id": "ec22983d",
   "metadata": {},
   "outputs": [
    {
     "data": {
      "text/plain": [
       "<Response [200]>"
      ]
     },
     "execution_count": 11,
     "metadata": {},
     "output_type": "execute_result"
    }
   ],
   "source": [
    "# Create an endpoint URL for a city.\n",
    "\n",
    "# 404 error\n",
    "city_url = url + \"&q=\" + \"Boston\"\n",
    "city_weather = requests.get(city_url)\n",
    "city_weather"
   ]
  },
  {
   "cell_type": "code",
   "execution_count": 12,
   "id": "822064fb",
   "metadata": {},
   "outputs": [
    {
     "data": {
      "text/plain": [
       "<Response [200]>"
      ]
     },
     "execution_count": 12,
     "metadata": {},
     "output_type": "execute_result"
    }
   ],
   "source": [
    "# Create an endpoint URL for a city.\n",
    "city_url = url + \"&q=\" + \"Boston\"\n",
    "city_weather = requests.get(city_url)\n",
    "city_weather"
   ]
  },
  {
   "cell_type": "code",
   "execution_count": 13,
   "id": "ae1ea1bb",
   "metadata": {},
   "outputs": [
    {
     "data": {
      "text/plain": [
       "'{\"coord\":{\"lon\":-71.0598,\"lat\":42.3584},\"weather\":[{\"id\":804,\"main\":\"Clouds\",\"description\":\"overcast clouds\",\"icon\":\"04n\"}],\"base\":\"stations\",\"main\":{\"temp\":40.44,\"feels_like\":35.1,\"temp_min\":37.31,\"temp_max\":42.73,\"pressure\":1025,\"humidity\":60},\"visibility\":10000,\"wind\":{\"speed\":8.05,\"deg\":110},\"clouds\":{\"all\":100},\"dt\":1648099633,\"sys\":{\"type\":2,\"id\":2013408,\"country\":\"US\",\"sunrise\":1648118433,\"sunset\":1648162819},\"timezone\":-14400,\"id\":4930956,\"name\":\"Boston\",\"cod\":200}'"
      ]
     },
     "execution_count": 13,
     "metadata": {},
     "output_type": "execute_result"
    }
   ],
   "source": [
    "# Get the text of the 'Get' request.\n",
    "city_weather.text"
   ]
  },
  {
   "cell_type": "code",
   "execution_count": 14,
   "id": "2158c5a8",
   "metadata": {},
   "outputs": [
    {
     "data": {
      "text/plain": [
       "{'coord': {'lon': -71.0598, 'lat': 42.3584},\n",
       " 'weather': [{'id': 804,\n",
       "   'main': 'Clouds',\n",
       "   'description': 'overcast clouds',\n",
       "   'icon': '04n'}],\n",
       " 'base': 'stations',\n",
       " 'main': {'temp': 40.44,\n",
       "  'feels_like': 35.1,\n",
       "  'temp_min': 37.31,\n",
       "  'temp_max': 42.73,\n",
       "  'pressure': 1025,\n",
       "  'humidity': 60},\n",
       " 'visibility': 10000,\n",
       " 'wind': {'speed': 8.05, 'deg': 110},\n",
       " 'clouds': {'all': 100},\n",
       " 'dt': 1648099633,\n",
       " 'sys': {'type': 2,\n",
       "  'id': 2013408,\n",
       "  'country': 'US',\n",
       "  'sunrise': 1648118433,\n",
       "  'sunset': 1648162819},\n",
       " 'timezone': -14400,\n",
       " 'id': 4930956,\n",
       " 'name': 'Boston',\n",
       " 'cod': 200}"
      ]
     },
     "execution_count": 14,
     "metadata": {},
     "output_type": "execute_result"
    }
   ],
   "source": [
    "# Get the JSON text of the 'Get' request.\n",
    "city_weather.json()"
   ]
  },
  {
   "cell_type": "code",
   "execution_count": 15,
   "id": "684f4ccf",
   "metadata": {},
   "outputs": [
    {
     "name": "stdout",
     "output_type": "stream",
     "text": [
      "City Weather found.\n"
     ]
    },
    {
     "data": {
      "text/plain": [
       "{'coord': {'lon': -71.0598, 'lat': 42.3584},\n",
       " 'weather': [{'id': 804,\n",
       "   'main': 'Clouds',\n",
       "   'description': 'overcast clouds',\n",
       "   'icon': '04n'}],\n",
       " 'base': 'stations',\n",
       " 'main': {'temp': 40.44,\n",
       "  'feels_like': 35.1,\n",
       "  'temp_min': 37.31,\n",
       "  'temp_max': 42.73,\n",
       "  'pressure': 1025,\n",
       "  'humidity': 60},\n",
       " 'visibility': 10000,\n",
       " 'wind': {'speed': 8.05, 'deg': 110},\n",
       " 'clouds': {'all': 100},\n",
       " 'dt': 1648099633,\n",
       " 'sys': {'type': 2,\n",
       "  'id': 2013408,\n",
       "  'country': 'US',\n",
       "  'sunrise': 1648118433,\n",
       "  'sunset': 1648162819},\n",
       " 'timezone': -14400,\n",
       " 'id': 4930956,\n",
       " 'name': 'Boston',\n",
       " 'cod': 200}"
      ]
     },
     "execution_count": 15,
     "metadata": {},
     "output_type": "execute_result"
    }
   ],
   "source": [
    "# Response [200] is a valid response\n",
    "\n",
    "# Create an endpoint URL for a city.\n",
    "city_url = url + \"&q=\" + \"Boston\"\n",
    "city_weather = requests.get(city_url)\n",
    "if city_weather.status_code == 200:\n",
    "    print(f\"City Weather found.\")\n",
    "else:\n",
    "    print(f\"City weather not found.\")\n",
    "\n",
    "\n",
    "# Create an endpoint URL for a city.\n",
    "#city_url = url + \"&q=\" + \"Bston\" #spelled wrong, hence not found\n",
    "#city_weather = requests.get(city_url)\n",
    "#if city_weather.status_code == 200:\n",
    "#    print(f\"City Weather found.\")\n",
    "#else:\n",
    " #   print(f\"City weather not found.\")\n",
    "    \n",
    "city_weather.json()"
   ]
  },
  {
   "cell_type": "code",
   "execution_count": 16,
   "id": "d765c967",
   "metadata": {},
   "outputs": [
    {
     "data": {
      "text/plain": [
       "1648099633"
      ]
     },
     "execution_count": 16,
     "metadata": {},
     "output_type": "execute_result"
    }
   ],
   "source": [
    "# GEt JSON data\n",
    "boston_data = city_weather.json()\n",
    "\n",
    "boston_data['sys'][\"country\"]\n",
    "\n",
    "boston_data[\"dt\"]"
   ]
  },
  {
   "cell_type": "code",
   "execution_count": 17,
   "id": "ca37ff91",
   "metadata": {},
   "outputs": [
    {
     "name": "stdout",
     "output_type": "stream",
     "text": [
      "42.3584 -71.0598 42.73 60 100 8.05\n"
     ]
    }
   ],
   "source": [
    "lat = boston_data[\"coord\"][\"lat\"]\n",
    "lng = boston_data[\"coord\"][\"lon\"]\n",
    "max_temp = boston_data[\"main\"][\"temp_max\"]\n",
    "humidity = boston_data[\"main\"][\"humidity\"]\n",
    "clouds = boston_data[\"clouds\"][\"all\"]\n",
    "wind = boston_data[\"wind\"][\"speed\"]\n",
    "print(lat, lng, max_temp, humidity, clouds, wind)"
   ]
  },
  {
   "cell_type": "code",
   "execution_count": 18,
   "id": "7adcf68a",
   "metadata": {},
   "outputs": [
    {
     "data": {
      "text/plain": [
       "'2022-03-24 05:27:13'"
      ]
     },
     "execution_count": 18,
     "metadata": {},
     "output_type": "execute_result"
    }
   ],
   "source": [
    "# Import the datetime module from the datetime library.\n",
    "from datetime import datetime\n",
    "# Get the date from the JSON file.\n",
    "date = boston_data[\"dt\"]\n",
    "# Convert the UTC date to a date format with year, month, day, hours, minutes, and seconds.\n",
    "datetime.utcfromtimestamp(date).strftime('%Y-%m-%d %H:%M:%S')"
   ]
  },
  {
   "cell_type": "code",
   "execution_count": 19,
   "id": "b7f9cdf2",
   "metadata": {},
   "outputs": [
    {
     "name": "stdout",
     "output_type": "stream",
     "text": [
      "Beginning Data Retrieval     \n",
      "-----------------------------\n"
     ]
    }
   ],
   "source": [
    "#psuedo code for pulling weather data from website for multiple cities\n",
    "\n",
    "#import dependencies / initialize empty list\n",
    "import time\n",
    "from datetime import datetime\n",
    "import requests\n",
    "from config import weather_api_key\n",
    "\n",
    "city_data = []\n",
    "cities = [\"Tuktoyaktuk\", \"Hermanus\", \"Bluff\", \"Port Alfred\", \"Outjo\", \"Agadez\", \"Paso De Los Toros\", \"Avarua\", \"Taltal\", \"Airai\" ]\n",
    "print(\"Beginning Data Retrieval     \")\n",
    "print(\"-----------------------------\")\n",
    "\n",
    "# Create counters.\n",
    "record_count = 1\n",
    "set_count = 1"
   ]
  },
  {
   "cell_type": "code",
   "execution_count": 20,
   "id": "c92c87a3",
   "metadata": {},
   "outputs": [
    {
     "name": "stdout",
     "output_type": "stream",
     "text": [
      "Processing Record 1 of Set 1 | Tuktoyaktuk\n",
      "Processing Record 2 of Set 1 | Hermanus\n",
      "Processing Record 3 of Set 1 | Bluff\n",
      "Processing Record 4 of Set 1 | Port Alfred\n",
      "Processing Record 5 of Set 1 | Outjo\n",
      "Processing Record 6 of Set 1 | Agadez\n",
      "Processing Record 7 of Set 1 | Paso De Los Toros\n",
      "Processing Record 8 of Set 1 | Avarua\n",
      "Processing Record 9 of Set 1 | Taltal\n",
      "Processing Record 10 of Set 1 | Airai\n",
      "-----------------------------\n",
      "Data Retrieval Complete      \n",
      "-----------------------------\n"
     ]
    }
   ],
   "source": [
    "#loop through cities list\n",
    "for i in range(len(cities)):\n",
    "    \n",
    "    #Group cities in sets of 50\n",
    "    if i % 50 == 0 and i >=50:\n",
    "    #    ^ means remainder of i/50     \n",
    "    #two different counters will be needed for this step\n",
    "        \n",
    "        #1 one to log city count (1 to 50)\n",
    "        set_count +=1\n",
    "        #2 another for sets\n",
    "        record_count = 1\n",
    "        #can only call data once every minute\n",
    "        time.sleep(60)\n",
    "        \n",
    "    #build city_url for each city\n",
    "    city_url = url + \"&q=\" + cities[i]\n",
    "    \n",
    "    # Log the URL, record, and set numbers and the city.\n",
    "    print(f\"Processing Record {record_count} of Set {set_count} | {cities[i]}\")\n",
    "    # Add 1 to the record count.\n",
    "    record_count += 1\n",
    "    \n",
    "    #Make API request for each city\n",
    "    try:\n",
    "        city_weather = requests.get(city_url).json()\n",
    "        #Parse JSON weather for:\n",
    "        #latitude and longitude\n",
    "        city_lat = city_weather[\"coord\"][\"lat\"]\n",
    "        city_lon = city_weather[\"coord\"][\"lon\"]\n",
    "        #max temp\n",
    "        city_max_temp = city_weather[\"main\"][\"temp_max\"]\n",
    "        #humidity\n",
    "        city_humidity = city_weather[\"main\"][\"humidity\"]\n",
    "        #Cloudiness\n",
    "        city_clouds = city_weather[\"clouds\"][\"all\"]\n",
    "        #wind speed\n",
    "        city_wind = city_weather[\"wind\"][\"speed\"]\n",
    "        #City, country, and date\n",
    "        city_country = city_weather[\"sys\"][\"country\"]\n",
    "        city_date = datetime.utcfromtimestamp(city_weather[\"dt\"]).strftime('%Y-%m-%d %H:%M:%S')\n",
    "        city_data.append({\"City\": cities[i],\n",
    "                          \"Lat\": city_lat,\n",
    "                          \"Lng\": city_lon,\n",
    "                          \"Max Temp\": city_max_temp,\n",
    "                          \"Humidity\": city_humidity,\n",
    "                          \"Cloudiness\": city_clouds,\n",
    "                          \"Wind Speed\": city_wind,\n",
    "                          \"Country\": city_country,\n",
    "                          \"Date\": city_date\n",
    "                         })\n",
    "    except:\n",
    "        print(f\"{Cities} not found. Skipping...\")\n",
    "        pass\n",
    "    \n",
    "# Indicate that Data Loading is complete.\n",
    "print(\"-----------------------------\")\n",
    "print(\"Data Retrieval Complete      \")\n",
    "print(\"-----------------------------\")    "
   ]
  },
  {
   "cell_type": "code",
   "execution_count": 21,
   "id": "cd2c3e52",
   "metadata": {},
   "outputs": [
    {
     "data": {
      "text/html": [
       "<div>\n",
       "<style scoped>\n",
       "    .dataframe tbody tr th:only-of-type {\n",
       "        vertical-align: middle;\n",
       "    }\n",
       "\n",
       "    .dataframe tbody tr th {\n",
       "        vertical-align: top;\n",
       "    }\n",
       "\n",
       "    .dataframe thead th {\n",
       "        text-align: right;\n",
       "    }\n",
       "</style>\n",
       "<table border=\"1\" class=\"dataframe\">\n",
       "  <thead>\n",
       "    <tr style=\"text-align: right;\">\n",
       "      <th></th>\n",
       "      <th>City</th>\n",
       "      <th>Lat</th>\n",
       "      <th>Lng</th>\n",
       "      <th>Max Temp</th>\n",
       "      <th>Humidity</th>\n",
       "      <th>Cloudiness</th>\n",
       "      <th>Wind Speed</th>\n",
       "      <th>Country</th>\n",
       "      <th>Date</th>\n",
       "    </tr>\n",
       "  </thead>\n",
       "  <tbody>\n",
       "    <tr>\n",
       "      <th>0</th>\n",
       "      <td>Tuktoyaktuk</td>\n",
       "      <td>69.4541</td>\n",
       "      <td>-133.0374</td>\n",
       "      <td>-16.60</td>\n",
       "      <td>69</td>\n",
       "      <td>0</td>\n",
       "      <td>12.66</td>\n",
       "      <td>CA</td>\n",
       "      <td>2022-03-24 05:32:01</td>\n",
       "    </tr>\n",
       "    <tr>\n",
       "      <th>1</th>\n",
       "      <td>Hermanus</td>\n",
       "      <td>-34.4187</td>\n",
       "      <td>19.2345</td>\n",
       "      <td>63.81</td>\n",
       "      <td>84</td>\n",
       "      <td>92</td>\n",
       "      <td>5.88</td>\n",
       "      <td>ZA</td>\n",
       "      <td>2022-03-24 05:32:01</td>\n",
       "    </tr>\n",
       "    <tr>\n",
       "      <th>2</th>\n",
       "      <td>Bluff</td>\n",
       "      <td>-46.6000</td>\n",
       "      <td>168.3333</td>\n",
       "      <td>58.33</td>\n",
       "      <td>57</td>\n",
       "      <td>48</td>\n",
       "      <td>15.48</td>\n",
       "      <td>NZ</td>\n",
       "      <td>2022-03-24 05:32:02</td>\n",
       "    </tr>\n",
       "    <tr>\n",
       "      <th>3</th>\n",
       "      <td>Port Alfred</td>\n",
       "      <td>-33.5906</td>\n",
       "      <td>26.8910</td>\n",
       "      <td>71.94</td>\n",
       "      <td>84</td>\n",
       "      <td>99</td>\n",
       "      <td>13.20</td>\n",
       "      <td>ZA</td>\n",
       "      <td>2022-03-24 05:32:03</td>\n",
       "    </tr>\n",
       "    <tr>\n",
       "      <th>4</th>\n",
       "      <td>Outjo</td>\n",
       "      <td>-20.1167</td>\n",
       "      <td>16.1500</td>\n",
       "      <td>64.17</td>\n",
       "      <td>93</td>\n",
       "      <td>100</td>\n",
       "      <td>1.59</td>\n",
       "      <td>NA</td>\n",
       "      <td>2022-03-24 05:32:03</td>\n",
       "    </tr>\n",
       "    <tr>\n",
       "      <th>5</th>\n",
       "      <td>Agadez</td>\n",
       "      <td>19.7500</td>\n",
       "      <td>10.2500</td>\n",
       "      <td>59.16</td>\n",
       "      <td>22</td>\n",
       "      <td>42</td>\n",
       "      <td>9.28</td>\n",
       "      <td>NE</td>\n",
       "      <td>2022-03-24 05:32:04</td>\n",
       "    </tr>\n",
       "    <tr>\n",
       "      <th>6</th>\n",
       "      <td>Paso De Los Toros</td>\n",
       "      <td>-32.8167</td>\n",
       "      <td>-56.5167</td>\n",
       "      <td>67.48</td>\n",
       "      <td>95</td>\n",
       "      <td>97</td>\n",
       "      <td>10.16</td>\n",
       "      <td>UY</td>\n",
       "      <td>2022-03-24 05:32:04</td>\n",
       "    </tr>\n",
       "    <tr>\n",
       "      <th>7</th>\n",
       "      <td>Avarua</td>\n",
       "      <td>-21.2078</td>\n",
       "      <td>-159.7750</td>\n",
       "      <td>80.65</td>\n",
       "      <td>78</td>\n",
       "      <td>20</td>\n",
       "      <td>9.22</td>\n",
       "      <td>CK</td>\n",
       "      <td>2022-03-24 05:32:05</td>\n",
       "    </tr>\n",
       "    <tr>\n",
       "      <th>8</th>\n",
       "      <td>Taltal</td>\n",
       "      <td>-25.4000</td>\n",
       "      <td>-70.4833</td>\n",
       "      <td>63.88</td>\n",
       "      <td>82</td>\n",
       "      <td>0</td>\n",
       "      <td>1.97</td>\n",
       "      <td>CL</td>\n",
       "      <td>2022-03-24 05:32:06</td>\n",
       "    </tr>\n",
       "    <tr>\n",
       "      <th>9</th>\n",
       "      <td>Airai</td>\n",
       "      <td>-8.9266</td>\n",
       "      <td>125.4092</td>\n",
       "      <td>69.49</td>\n",
       "      <td>76</td>\n",
       "      <td>98</td>\n",
       "      <td>1.95</td>\n",
       "      <td>TL</td>\n",
       "      <td>2022-03-24 05:32:06</td>\n",
       "    </tr>\n",
       "  </tbody>\n",
       "</table>\n",
       "</div>"
      ],
      "text/plain": [
       "                City      Lat       Lng  Max Temp  Humidity  Cloudiness  \\\n",
       "0        Tuktoyaktuk  69.4541 -133.0374    -16.60        69           0   \n",
       "1           Hermanus -34.4187   19.2345     63.81        84          92   \n",
       "2              Bluff -46.6000  168.3333     58.33        57          48   \n",
       "3        Port Alfred -33.5906   26.8910     71.94        84          99   \n",
       "4              Outjo -20.1167   16.1500     64.17        93         100   \n",
       "5             Agadez  19.7500   10.2500     59.16        22          42   \n",
       "6  Paso De Los Toros -32.8167  -56.5167     67.48        95          97   \n",
       "7             Avarua -21.2078 -159.7750     80.65        78          20   \n",
       "8             Taltal -25.4000  -70.4833     63.88        82           0   \n",
       "9              Airai  -8.9266  125.4092     69.49        76          98   \n",
       "\n",
       "   Wind Speed Country                 Date  \n",
       "0       12.66      CA  2022-03-24 05:32:01  \n",
       "1        5.88      ZA  2022-03-24 05:32:01  \n",
       "2       15.48      NZ  2022-03-24 05:32:02  \n",
       "3       13.20      ZA  2022-03-24 05:32:03  \n",
       "4        1.59      NA  2022-03-24 05:32:03  \n",
       "5        9.28      NE  2022-03-24 05:32:04  \n",
       "6       10.16      UY  2022-03-24 05:32:04  \n",
       "7        9.22      CK  2022-03-24 05:32:05  \n",
       "8        1.97      CL  2022-03-24 05:32:06  \n",
       "9        1.95      TL  2022-03-24 05:32:06  "
      ]
     },
     "execution_count": 21,
     "metadata": {},
     "output_type": "execute_result"
    }
   ],
   "source": [
    "#Add data to list in a dictionary format and convert list to data frame\n",
    "import pandas as pd\n",
    "city_data_df = pd.DataFrame(city_data)\n",
    "city_data_df.head(10)"
   ]
  },
  {
   "cell_type": "code",
   "execution_count": 22,
   "id": "adcdaf40",
   "metadata": {},
   "outputs": [],
   "source": [
    "# Create the output file (CSV).\n",
    "output_data_file = \"weather_data/cities.csv\"\n",
    "# Export the City_Data into a CSV.\n",
    "city_data_df.to_csv(output_data_file, index_label=\"City_ID\")"
   ]
  },
  {
   "cell_type": "code",
   "execution_count": null,
   "id": "7898ec08",
   "metadata": {},
   "outputs": [],
   "source": []
  }
 ],
 "metadata": {
  "kernelspec": {
   "display_name": "PythonData",
   "language": "python",
   "name": "pythondata"
  },
  "language_info": {
   "codemirror_mode": {
    "name": "ipython",
    "version": 3
   },
   "file_extension": ".py",
   "mimetype": "text/x-python",
   "name": "python",
   "nbconvert_exporter": "python",
   "pygments_lexer": "ipython3",
   "version": "3.7.11"
  }
 },
 "nbformat": 4,
 "nbformat_minor": 5
}
