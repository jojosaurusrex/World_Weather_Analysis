{
 "cells": [
  {
   "cell_type": "code",
   "execution_count": 2,
   "id": "e4d96d22",
   "metadata": {},
   "outputs": [],
   "source": [
    "# 2bc1023b8dad77b8640c75b326f719de"
   ]
  },
  {
   "cell_type": "code",
   "execution_count": null,
   "id": "e324e341",
   "metadata": {},
   "outputs": [],
   "source": []
  }
 ],
 "metadata": {
  "kernelspec": {
   "display_name": "PythonData",
   "language": "python",
   "name": "pythondata"
  },
  "language_info": {
   "codemirror_mode": {
    "name": "ipython",
    "version": 3
   },
   "file_extension": ".py",
   "mimetype": "text/x-python",
   "name": "python",
   "nbconvert_exporter": "python",
   "pygments_lexer": "ipython3",
   "version": "3.7.11"
  }
 },
 "nbformat": 4,
 "nbformat_minor": 5
}
